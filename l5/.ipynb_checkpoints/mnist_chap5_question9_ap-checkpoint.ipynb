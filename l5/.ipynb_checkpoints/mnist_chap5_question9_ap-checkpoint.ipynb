{
 "cells": [
  {
   "cell_type": "markdown",
   "id": "00266c80",
   "metadata": {},
   "source": [
    "# MNIST Data"
   ]
  },
  {
   "cell_type": "code",
   "execution_count": 1,
   "id": "edad8d44",
   "metadata": {},
   "outputs": [],
   "source": [
    "import numpy as np\n",
    "import pandas as pd\n",
    "import matplotlib.pyplot as plt\n",
    "import matplotlib as mpl\n",
    "\n",
    "from sklearn.preprocessing import StandardScaler\n",
    "from sklearn.metrics import accuracy_score\n",
    "\n",
    "from sklearn.svm import LinearSVC\n",
    "from sklearn.svm import SVC\n",
    "\n",
    "from sklearn.pipeline import Pipeline\n",
    "from sklearn.model_selection import GridSearchCV\n",
    "from sklearn.model_selection import RandomizedSearchCV\n",
    "from scipy.stats import reciprocal, uniform\n",
    "from sklearn.metrics import confusion_matrix, ConfusionMatrixDisplay"
   ]
  },
  {
   "cell_type": "markdown",
   "id": "a881c43d",
   "metadata": {},
   "source": [
    "# Creating a function that will be used later"
   ]
  },
  {
   "cell_type": "code",
   "execution_count": 2,
   "id": "5e01968a",
   "metadata": {},
   "outputs": [],
   "source": [
    "def display_confusion_matrix(y_test, y_pred):\n",
    "    cm = confusion_matrix(y_test, y_pred)\n",
    "    ConfusionMatrixDisplay(cm).plot()"
   ]
  },
  {
   "cell_type": "markdown",
   "id": "304489e0",
   "metadata": {},
   "source": [
    "# Downloading the data and inspecting it"
   ]
  },
  {
   "cell_type": "code",
   "execution_count": 3,
   "id": "c9ff6a66",
   "metadata": {},
   "outputs": [],
   "source": [
    "from sklearn.datasets import fetch_openml\n",
    "mnist = fetch_openml('mnist_784', version=1, cache=True, as_frame=False)\n",
    "\n",
    "X = mnist[\"data\"]\n",
    "y = mnist[\"target\"].astype(np.uint8)"
   ]
  },
  {
   "cell_type": "code",
   "execution_count": 4,
   "id": "31804aaf",
   "metadata": {},
   "outputs": [
    {
     "name": "stdout",
     "output_type": "stream",
     "text": [
      "**Author**: Yann LeCun, Corinna Cortes, Christopher J.C. Burges  \n",
      "**Source**: [MNIST Website](http://yann.lecun.com/exdb/mnist/) - Date unknown  \n",
      "**Please cite**:  \n",
      "\n",
      "The MNIST database of handwritten digits with 784 features, raw data available at: http://yann.lecun.com/exdb/mnist/. It can be split in a training set of the first 60,000 examples, and a test set of 10,000 examples  \n",
      "\n",
      "It is a subset of a larger set available from NIST. The digits have been size-normalized and centered in a fixed-size image. It is a good database for people who want to try learning techniques and pattern recognition methods on real-world data while spending minimal efforts on preprocessing and formatting. The original black and white (bilevel) images from NIST were size normalized to fit in a 20x20 pixel box while preserving their aspect ratio. The resulting images contain grey levels as a result of the anti-aliasing technique used by the normalization algorithm. the images were centered in a 28x28 image by computing the center of mass of the pixels, and translating the image so as to position this point at the center of the 28x28 field.  \n",
      "\n",
      "With some classification methods (particularly template-based methods, such as SVM and K-nearest neighbors), the error rate improves when the digits are centered by bounding box rather than center of mass. If you do this kind of pre-processing, you should report it in your publications. The MNIST database was constructed from NIST's NIST originally designated SD-3 as their training set and SD-1 as their test set. However, SD-3 is much cleaner and easier to recognize than SD-1. The reason for this can be found on the fact that SD-3 was collected among Census Bureau employees, while SD-1 was collected among high-school students. Drawing sensible conclusions from learning experiments requires that the result be independent of the choice of training set and test among the complete set of samples. Therefore it was necessary to build a new database by mixing NIST's datasets.  \n",
      "\n",
      "The MNIST training set is composed of 30,000 patterns from SD-3 and 30,000 patterns from SD-1. Our test set was composed of 5,000 patterns from SD-3 and 5,000 patterns from SD-1. The 60,000 pattern training set contained examples from approximately 250 writers. We made sure that the sets of writers of the training set and test set were disjoint. SD-1 contains 58,527 digit images written by 500 different writers. In contrast to SD-3, where blocks of data from each writer appeared in sequence, the data in SD-1 is scrambled. Writer identities for SD-1 is available and we used this information to unscramble the writers. We then split SD-1 in two: characters written by the first 250 writers went into our new training set. The remaining 250 writers were placed in our test set. Thus we had two sets with nearly 30,000 examples each. The new training set was completed with enough examples from SD-3, starting at pattern # 0, to make a full set of 60,000 training patterns. Similarly, the new test set was completed with SD-3 examples starting at pattern # 35,000 to make a full set with 60,000 test patterns. Only a subset of 10,000 test images (5,000 from SD-1 and 5,000 from SD-3) is available on this site. The full 60,000 sample training set is available.\n",
      "\n",
      "Downloaded from openml.org.\n"
     ]
    }
   ],
   "source": [
    "print(mnist.DESCR)"
   ]
  },
  {
   "cell_type": "code",
   "execution_count": null,
   "id": "b08dbcad",
   "metadata": {},
   "outputs": [],
   "source": []
  },
  {
   "cell_type": "code",
   "execution_count": 5,
   "id": "de365ac4",
   "metadata": {},
   "outputs": [],
   "source": [
    "# Taking less data to speed up training. \n",
    "X_train = X[:5000]\n",
    "y_train = y[:5000]\n",
    "X_test = X[5000:6000]\n",
    "y_test = y[5000:6000]\n",
    "\n",
    "# Standardizing the data (as you always should do when using SVM models).\n",
    "scaler = StandardScaler()\n",
    "X_train_scaled = scaler.fit_transform(X_train)\n",
    "X_test_scaled = scaler.transform(X_test)  # Only transforming the test data. \n",
    "\n",
    "# X_train = X[:60000]\n",
    "# y_train = y[:60000]\n",
    "# X_test = X[60000:]\n",
    "# y_test = y[60000:]"
   ]
  },
  {
   "cell_type": "code",
   "execution_count": 6,
   "id": "5e73075a",
   "metadata": {},
   "outputs": [
    {
     "data": {
      "text/plain": [
       "5"
      ]
     },
     "execution_count": 6,
     "metadata": {},
     "output_type": "execute_result"
    }
   ],
   "source": [
    "# The first label (\"true answer\") is 5. \n",
    "y[0]"
   ]
  },
  {
   "cell_type": "code",
   "execution_count": 7,
   "id": "9c8cd9c0",
   "metadata": {},
   "outputs": [
    {
     "data": {
      "text/plain": [
       "<matplotlib.image.AxesImage at 0x1e093645160>"
      ]
     },
     "execution_count": 7,
     "metadata": {},
     "output_type": "execute_result"
    },
    {
     "data": {
      "image/png": "[encoded data removed]",
      "text/plain": [
       "<Figure size 432x288 with 1 Axes>"
      ]
     },
     "metadata": {
      "needs_background": "light"
     },
     "output_type": "display_data"
    }
   ],
   "source": [
    "# Plotting the features of the X data, it looks like a 5.\n",
    "some_digit = X[0]\n",
    "some_digit_image = some_digit.reshape(28, 28)\n",
    "plt.imshow(some_digit_image, cmap=mpl.cm.binary)\n",
    "# plt.axis(\"off\")"
   ]
  },
  {
   "cell_type": "code",
   "execution_count": 8,
   "id": "0653015d",
   "metadata": {},
   "outputs": [
    {
     "name": "stdout",
     "output_type": "stream",
     "text": [
      "(5000, 784)\n",
      "(5000,)\n"
     ]
    }
   ],
   "source": [
    "print(X_train.shape)\n",
    "print(y_train.shape)"
   ]
  },
  {
   "cell_type": "markdown",
   "id": "2ab18bc1",
   "metadata": {},
   "source": [
    "# Creating a simple modell and evaluating it on the test set"
   ]
  },
  {
   "cell_type": "code",
   "execution_count": 9,
   "id": "867f08fb",
   "metadata": {},
   "outputs": [
    {
     "name": "stderr",
     "output_type": "stream",
     "text": [
      "C:\\ProgramData\\anaconda3\\envs\\tf\\lib\\site-packages\\sklearn\\svm\\_base.py:1206: ConvergenceWarning: Liblinear failed to converge, increase the number of iterations.\n",
      "  warnings.warn(\n"
     ]
    },
    {
     "data": {
      "text/plain": [
       "LinearSVC(random_state=42)"
      ]
     },
     "execution_count": 9,
     "metadata": {},
     "output_type": "execute_result"
    }
   ],
   "source": [
    "lin_clf = LinearSVC(random_state=42)\n",
    "lin_clf.fit(X_train_scaled, y_train)"
   ]
  },
  {
   "cell_type": "code",
   "execution_count": 10,
   "id": "c0d02cba",
   "metadata": {},
   "outputs": [
    {
     "data": {
      "text/plain": [
       "0.844"
      ]
     },
     "execution_count": 10,
     "metadata": {},
     "output_type": "execute_result"
    }
   ],
   "source": [
    "y_pred_linear = lin_clf.predict(X_test_scaled)\n",
    "accuracy_score(y_test, y_pred_linear)"
   ]
  },
  {
   "cell_type": "code",
   "execution_count": 11,
   "id": "043eae60",
   "metadata": {},
   "outputs": [
    {
     "data": {
      "image/png": "[encoded data removed]",
      "text/plain": [
       "<Figure size 432x288 with 2 Axes>"
      ]
     },
     "metadata": {
      "needs_background": "light"
     },
     "output_type": "display_data"
    }
   ],
   "source": [
    "display_confusion_matrix(y_test, y_pred_linear)"
   ]
  },
  {
   "cell_type": "markdown",
   "id": "56d026b4",
   "metadata": {},
   "source": [
    "# Modell Selection with RandomizedSearch & Gridsearch"
   ]
  },
  {
   "cell_type": "code",
   "execution_count": 12,
   "id": "13c187b6",
   "metadata": {},
   "outputs": [],
   "source": [
    "svm_clf = SVC()"
   ]
  },
  {
   "cell_type": "markdown",
   "id": "56f5fa79",
   "metadata": {},
   "source": [
    "## Doing Randomized Search (Takes a while to run)"
   ]
  },
  {
   "cell_type": "code",
   "execution_count": 13,
   "id": "ed6b15da",
   "metadata": {},
   "outputs": [],
   "source": [
    "hyper_param_distribution = {\"gamma\": reciprocal(0.001, 0.1), \"C\": uniform(1, 10)}\n",
    "rnd_search_cv = RandomizedSearchCV(svm_clf, hyper_param_distribution, n_iter=10, verbose=2, cv=3)"
   ]
  },
  {
   "cell_type": "code",
   "execution_count": 14,
   "id": "0600914a",
   "metadata": {},
   "outputs": [
    {
     "name": "stdout",
     "output_type": "stream",
     "text": [
      "Fitting 3 folds for each of 10 candidates, totalling 30 fits\n",
      "[CV] END ....C=5.953337107158784, gamma=0.042919561954115365; total time=  33.4s\n",
      "[CV] END ....C=5.953337107158784, gamma=0.042919561954115365; total time=  20.8s\n",
      "[CV] END ....C=5.953337107158784, gamma=0.042919561954115365; total time=  22.5s\n",
      "[CV] END ....C=6.675554438278235, gamma=0.017539043189783148; total time=  11.9s\n",
      "[CV] END ....C=6.675554438278235, gamma=0.017539043189783148; total time=  11.4s\n",
      "[CV] END ....C=6.675554438278235, gamma=0.017539043189783148; total time=  11.4s\n",
      "[CV] END ....C=8.649993531032893, gamma=0.004376672027917854; total time=   8.3s\n",
      "[CV] END ....C=8.649993531032893, gamma=0.004376672027917854; total time=   9.4s\n",
      "[CV] END ....C=8.649993531032893, gamma=0.004376672027917854; total time=  10.2s\n",
      "[CV] END ....C=6.309133891721395, gamma=0.005455441349564333; total time=   9.8s\n",
      "[CV] END ....C=6.309133891721395, gamma=0.005455441349564333; total time=   9.2s\n",
      "[CV] END ....C=6.309133891721395, gamma=0.005455441349564333; total time=   9.1s\n",
      "[CV] END ....C=1.045255679336793, gamma=0.054963676138371366; total time=  12.0s\n",
      "[CV] END ....C=1.045255679336793, gamma=0.054963676138371366; total time=  11.9s\n",
      "[CV] END ....C=1.045255679336793, gamma=0.054963676138371366; total time=  12.8s\n",
      "[CV] END ....C=5.535595279657648, gamma=0.017302315318325753; total time=  11.4s\n",
      "[CV] END ....C=5.535595279657648, gamma=0.017302315318325753; total time=  11.3s\n",
      "[CV] END ....C=5.535595279657648, gamma=0.017302315318325753; total time=  11.3s\n",
      "[CV] END .....C=5.083829189778534, gamma=0.07791568533239991; total time=  12.6s\n",
      "[CV] END .....C=5.083829189778534, gamma=0.07791568533239991; total time=  16.2s\n",
      "[CV] END .....C=5.083829189778534, gamma=0.07791568533239991; total time=  18.0s\n",
      "[CV] END ...C=10.537287627525586, gamma=0.008741294173945521; total time=  17.2s\n",
      "[CV] END ...C=10.537287627525586, gamma=0.008741294173945521; total time=  29.5s\n",
      "[CV] END ...C=10.537287627525586, gamma=0.008741294173945521; total time=  19.0s\n",
      "[CV] END .....C=3.514840404546402, gamma=0.05608919683354278; total time=  29.4s\n",
      "[CV] END .....C=3.514840404546402, gamma=0.05608919683354278; total time=  19.1s\n",
      "[CV] END .....C=3.514840404546402, gamma=0.05608919683354278; total time=  20.6s\n",
      "[CV] END .....C=7.478417446519772, gamma=0.05939114397194811; total time=  17.6s\n",
      "[CV] END .....C=7.478417446519772, gamma=0.05939114397194811; total time=  18.4s\n",
      "[CV] END .....C=7.478417446519772, gamma=0.05939114397194811; total time=  19.9s\n"
     ]
    },
    {
     "data": {
      "text/plain": [
       "RandomizedSearchCV(cv=3, estimator=SVC(),\n",
       "                   param_distributions={'C': <scipy.stats._distn_infrastructure.rv_frozen object at 0x000001E0949D17F0>,\n",
       "                                        'gamma': <scipy.stats._distn_infrastructure.rv_frozen object at 0x000001E0949FC9A0>},\n",
       "                   verbose=2)"
      ]
     },
     "execution_count": 14,
     "metadata": {},
     "output_type": "execute_result"
    }
   ],
   "source": [
    "rnd_search_cv.fit(X_train_scaled, y_train)"
   ]
  },
  {
   "cell_type": "code",
   "execution_count": 15,
   "id": "b368407f",
   "metadata": {},
   "outputs": [
    {
     "data": {
      "text/plain": [
       "0.9"
      ]
     },
     "execution_count": 15,
     "metadata": {},
     "output_type": "execute_result"
    }
   ],
   "source": [
    "y_pred_rnd = rnd_search_cv.predict(X_test_scaled)\n",
    "accuracy_score(y_test, y_pred_rnd)"
   ]
  },
  {
   "cell_type": "code",
   "execution_count": 16,
   "id": "0e7ca3d8",
   "metadata": {},
   "outputs": [
    {
     "data": {
      "image/png": "[encoded data removed]",
      "text/plain": [
       "<Figure size 432x288 with 2 Axes>"
      ]
     },
     "metadata": {
      "needs_background": "light"
     },
     "output_type": "display_data"
    }
   ],
   "source": [
    "display_confusion_matrix(y_test, y_pred_rnd)"
   ]
  },
  {
   "cell_type": "markdown",
   "id": "2dc7ef3f",
   "metadata": {},
   "source": [
    "## Doing GridSearch (Takes a while to run) - remove the comments if you want to run the code"
   ]
  },
  {
   "cell_type": "code",
   "execution_count": 17,
   "id": "d11c7a34",
   "metadata": {},
   "outputs": [],
   "source": [
    "hyper_param_grid = [\n",
    "    {'kernel': ['rbf', 'poly'], 'gamma': [0, 1, 2], 'C': [0.5, 1, 1.5]}\n",
    "]\n",
    "\n",
    "# grid_search = GridSearchCV(svm_clf, hyper_param_grid, cv = 3)"
   ]
  },
  {
   "cell_type": "code",
   "execution_count": 18,
   "id": "0c0f387b",
   "metadata": {},
   "outputs": [
    {
     "data": {
      "text/plain": [
       "GridSearchCV(cv=3, estimator=SVC(),\n",
       "             param_grid=[{'C': [0.5, 1, 1.5], 'gamma': [0, 1, 2],\n",
       "                          'kernel': ['rbf', 'poly']}])"
      ]
     },
     "execution_count": 18,
     "metadata": {},
     "output_type": "execute_result"
    }
   ],
   "source": [
    "# grid_search.fit(X_train_scaled, y_train)"
   ]
  },
  {
   "cell_type": "code",
   "execution_count": 19,
   "id": "7727d8be",
   "metadata": {},
   "outputs": [
    {
     "data": {
      "text/plain": [
       "0.94"
      ]
     },
     "execution_count": 19,
     "metadata": {},
     "output_type": "execute_result"
    }
   ],
   "source": [
    "# y_pred_grid = grid_search.predict(X_test_scaled)\n",
    "# accuracy_score(y_test, y_pred_grid)"
   ]
  },
  {
   "cell_type": "code",
   "execution_count": 20,
   "id": "a069c66b",
   "metadata": {},
   "outputs": [
    {
     "data": {
      "image/png": "[encoded data removed]",
      "text/plain": [
       "<Figure size 432x288 with 2 Axes>"
      ]
     },
     "metadata": {
      "needs_background": "light"
     },
     "output_type": "display_data"
    }
   ],
   "source": [
    "# display_confusion_matrix(y_test, y_pred_grid)"
   ]
  }
 ],
 "metadata": {
  "kernelspec": {
   "display_name": "Python 3 (ipykernel)",
   "language": "python",
   "name": "python3"
  },
  "language_info": {
   "codemirror_mode": {
    "name": "ipython",
    "version": 3
   },
   "file_extension": ".py",
   "mimetype": "text/x-python",
   "name": "python",
   "nbconvert_exporter": "python",
   "pygments_lexer": "ipython3",
   "version": "3.9.18"
  }
 },
 "nbformat": 4,
 "nbformat_minor": 5
}
