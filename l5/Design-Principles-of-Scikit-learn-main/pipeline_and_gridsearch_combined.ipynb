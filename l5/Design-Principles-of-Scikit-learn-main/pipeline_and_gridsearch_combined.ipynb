{
 "cells": [
  {
   "cell_type": "markdown",
   "id": "b4633d7b",
   "metadata": {},
   "source": [
    "# Combining Gridsearch With a Pipeline"
   ]
  },
  {
   "cell_type": "code",
   "execution_count": 1,
   "id": "fe1cccc4",
   "metadata": {},
   "outputs": [],
   "source": [
    "import numpy as np\n",
    "import pandas as pd\n",
    "import matplotlib.pyplot as plt \n",
    "\n",
    "from sklearn.preprocessing import PolynomialFeatures\n",
    "from sklearn.pipeline import Pipeline\n",
    "\n",
    "from sklearn.linear_model import LinearRegression\n",
    "from sklearn.linear_model import Ridge\n",
    "# from sklearn.linear_model import Lasso  # This import is not used in the script and should be removed. \n",
    "\n",
    "from sklearn.model_selection import GridSearchCV"
   ]
  },
  {
   "cell_type": "code",
   "execution_count": null,
   "id": "fc859d7f",
   "metadata": {},
   "outputs": [],
   "source": []
  },
  {
   "cell_type": "code",
   "execution_count": 2,
   "id": "34153eab",
   "metadata": {},
   "outputs": [
    {
     "data": {
      "text/plain": [
       "<matplotlib.collections.PathCollection at 0x202e0f61400>"
      ]
     },
     "execution_count": 2,
     "metadata": {},
     "output_type": "execute_result"
    },
    {
     "data": {
      "image/png": "[encoded data removed]",
      "text/plain": [
       "<Figure size 432x288 with 1 Axes>"
      ]
     },
     "metadata": {
      "needs_background": "light"
     },
     "output_type": "display_data"
    }
   ],
   "source": [
    "np.random.seed(42)\n",
    "X = 5 * np.random.rand(100, 1) - 3\n",
    "y = 0.6*X**3 + 0.6 * X**2 + 0.7*X + 2 + np.random.randn(100, 1)\n",
    "\n",
    "plt.scatter(X, y)"
   ]
  },
  {
   "cell_type": "code",
   "execution_count": 3,
   "id": "07e2aaae",
   "metadata": {},
   "outputs": [],
   "source": [
    "X_new = np.linspace(-3, 2.5, 20).reshape(-1, 1)"
   ]
  },
  {
   "cell_type": "markdown",
   "id": "31a71cf7",
   "metadata": {},
   "source": [
    "## Creating a model with \"arbitrarily\" set hyperparameters"
   ]
  },
  {
   "cell_type": "code",
   "execution_count": 4,
   "id": "073f4fcf",
   "metadata": {},
   "outputs": [],
   "source": [
    "pipe = Pipeline(steps=[\n",
    "    ('poly_features', PolynomialFeatures(degree=2, include_bias=False)),\n",
    "    ('regression', Ridge(alpha=1))\n",
    "])\n",
    "\n",
    "y_lr = pipe.fit(X, y)\n",
    "y_lr_pred = y_lr.predict(X_new)"
   ]
  },
  {
   "cell_type": "markdown",
   "id": "b5e55d04",
   "metadata": {},
   "source": [
    "## Creating a model with hyperparameters chosen by GridSearch"
   ]
  },
  {
   "cell_type": "code",
   "execution_count": 5,
   "id": "0022c9ec",
   "metadata": {},
   "outputs": [
    {
     "data": {
      "text/plain": [
       "{'memory': None,\n",
       " 'steps': [('poly_features', PolynomialFeatures(include_bias=False)),\n",
       "  ('regression', Ridge(alpha=1))],\n",
       " 'verbose': False,\n",
       " 'poly_features': PolynomialFeatures(include_bias=False),\n",
       " 'regression': Ridge(alpha=1),\n",
       " 'poly_features__degree': 2,\n",
       " 'poly_features__include_bias': False,\n",
       " 'poly_features__interaction_only': False,\n",
       " 'poly_features__order': 'C',\n",
       " 'regression__alpha': 1,\n",
       " 'regression__copy_X': True,\n",
       " 'regression__fit_intercept': True,\n",
       " 'regression__max_iter': None,\n",
       " 'regression__normalize': 'deprecated',\n",
       " 'regression__positive': False,\n",
       " 'regression__random_state': None,\n",
       " 'regression__solver': 'auto',\n",
       " 'regression__tol': 0.001}"
      ]
     },
     "execution_count": 5,
     "metadata": {},
     "output_type": "execute_result"
    }
   ],
   "source": [
    "# Checking what hyper-parameters we have and what they are called. Ex: \"poly_features__degree\" and \"regression__alpha\".\n",
    "pipe.get_params()"
   ]
  },
  {
   "cell_type": "code",
   "execution_count": 6,
   "id": "7283f1e6",
   "metadata": {},
   "outputs": [
    {
     "data": {
      "text/plain": [
       "GridSearchCV(cv=3,\n",
       "             estimator=Pipeline(steps=[('poly_features',\n",
       "                                        PolynomialFeatures(include_bias=False)),\n",
       "                                       ('regression', Ridge(alpha=1))]),\n",
       "             param_grid=[{'poly_features__degree': [1, 2, 3, 4],\n",
       "                          'regression__alpha': [0.5, 1, 1.5]}],\n",
       "             scoring='neg_mean_squared_error')"
      ]
     },
     "execution_count": 6,
     "metadata": {},
     "output_type": "execute_result"
    }
   ],
   "source": [
    "param_grid = [\n",
    "    {'poly_features__degree': [1, 2, 3, 4], 'regression__alpha': [0.5, 1, 1.5]}\n",
    "]\n",
    "grid_search = GridSearchCV(pipe, param_grid, cv = 3, scoring = 'neg_mean_squared_error')\n",
    "grid_search.fit(X, y)"
   ]
  },
  {
   "cell_type": "code",
   "execution_count": 7,
   "id": "661531e4",
   "metadata": {},
   "outputs": [
    {
     "data": {
      "text/plain": [
       "Pipeline(steps=[('poly_features',\n",
       "                 PolynomialFeatures(degree=3, include_bias=False)),\n",
       "                ('regression', Ridge(alpha=1.5))])"
      ]
     },
     "execution_count": 7,
     "metadata": {},
     "output_type": "execute_result"
    }
   ],
   "source": [
    "grid_search.best_estimator_"
   ]
  },
  {
   "cell_type": "code",
   "execution_count": 8,
   "id": "758eea5e",
   "metadata": {},
   "outputs": [],
   "source": [
    "y_best_pred = grid_search.predict(X_new)"
   ]
  },
  {
   "cell_type": "markdown",
   "id": "9175e63d",
   "metadata": {},
   "source": [
    "# Plotting both models"
   ]
  },
  {
   "cell_type": "code",
   "execution_count": 9,
   "id": "2bf223dc",
   "metadata": {},
   "outputs": [
    {
     "data": {
      "text/plain": [
       "<matplotlib.legend.Legend at 0x202e14ba940>"
      ]
     },
     "execution_count": 9,
     "metadata": {},
     "output_type": "execute_result"
    },
    {
     "data": {
      "image/png": "[encoded data removed]",
      "text/plain": [
       "<Figure size 432x288 with 1 Axes>"
      ]
     },
     "metadata": {
      "needs_background": "light"
     },
     "output_type": "display_data"
    }
   ],
   "source": [
    "fig, ax = plt.subplots()\n",
    "ax.set_title(\"Linear Regression\")\n",
    "ax.scatter(X, y, label = \"data\")\n",
    "ax.plot(X_new, y_lr_pred, 'k--o', label = 'Degree 2')\n",
    "ax.plot(X_new, y_best_pred, 'r--o', label = 'Gridsearch')\n",
    "ax.legend()"
   ]
  },
  {
   "cell_type": "code",
   "execution_count": null,
   "id": "45a5a096",
   "metadata": {},
   "outputs": [],
   "source": []
  }
 ],
 "metadata": {
  "kernelspec": {
   "display_name": "Python 3 (ipykernel)",
   "language": "python",
   "name": "python3"
  },
  "language_info": {
   "codemirror_mode": {
    "name": "ipython",
    "version": 3
   },
   "file_extension": ".py",
   "mimetype": "text/x-python",
   "name": "python",
   "nbconvert_exporter": "python",
   "pygments_lexer": "ipython3",
   "version": "3.8.0"
  }
 },
 "nbformat": 4,
 "nbformat_minor": 5
}
