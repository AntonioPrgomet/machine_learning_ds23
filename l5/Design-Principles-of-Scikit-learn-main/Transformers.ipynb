{
 "cells": [
  {
   "cell_type": "markdown",
   "id": "93416869",
   "metadata": {},
   "source": [
    "# Transformers"
   ]
  },
  {
   "cell_type": "code",
   "execution_count": 1,
   "id": "6de1ff19",
   "metadata": {},
   "outputs": [],
   "source": [
    "import numpy as np\n",
    "import pandas as pd\n",
    "import matplotlib.pyplot as plt "
   ]
  },
  {
   "cell_type": "markdown",
   "id": "46144fbd",
   "metadata": {},
   "source": [
    "# Generating Random Data"
   ]
  },
  {
   "cell_type": "code",
   "execution_count": 2,
   "id": "e24634e9",
   "metadata": {},
   "outputs": [
    {
     "data": {
      "text/plain": [
       "<matplotlib.collections.PathCollection at 0x19c45760610>"
      ]
     },
     "execution_count": 2,
     "metadata": {},
     "output_type": "execute_result"
    },
    {
     "data": {
      "image/png": "[encoded data removed]",
      "text/plain": [
       "<Figure size 432x288 with 1 Axes>"
      ]
     },
     "metadata": {
      "needs_background": "light"
     },
     "output_type": "display_data"
    }
   ],
   "source": [
    "np.random.seed(42)\n",
    "X = 2 * np.random.rand(100, 1)\n",
    "y = 4 + 3 * X + np.random.randn(100, 1)\n",
    "\n",
    "plt.scatter(X, y)"
   ]
  },
  {
   "cell_type": "markdown",
   "id": "f0535192",
   "metadata": {},
   "source": [
    "# Transforming Our Data by Standardizing to Zero Mean and Unit Variance"
   ]
  },
  {
   "cell_type": "code",
   "execution_count": 3,
   "id": "edda80c9",
   "metadata": {},
   "outputs": [
    {
     "name": "stdout",
     "output_type": "stream",
     "text": [
      "0.9403614867564187\n",
      "0.35045980067831656\n"
     ]
    }
   ],
   "source": [
    "print(np.mean(X))\n",
    "print(np.var(X))"
   ]
  },
  {
   "cell_type": "code",
   "execution_count": 4,
   "id": "11f5348b",
   "metadata": {},
   "outputs": [
    {
     "data": {
      "text/plain": [
       "StandardScaler()"
      ]
     },
     "execution_count": 4,
     "metadata": {},
     "output_type": "execute_result"
    }
   ],
   "source": [
    "from sklearn.preprocessing import StandardScaler\n",
    "\n",
    "scaler = StandardScaler()\n",
    "scaler.fit(X)"
   ]
  },
  {
   "cell_type": "code",
   "execution_count": 5,
   "id": "37914152",
   "metadata": {},
   "outputs": [
    {
     "name": "stdout",
     "output_type": "stream",
     "text": [
      "[0.94036149]\n",
      "[0.3504598]\n"
     ]
    }
   ],
   "source": [
    "# Learned parameters are accessed by using an underscore suffix.\n",
    "print(scaler.mean_)\n",
    "print(scaler.var_)"
   ]
  },
  {
   "cell_type": "code",
   "execution_count": 6,
   "id": "c1acb1aa",
   "metadata": {},
   "outputs": [],
   "source": [
    "X_transformed = scaler.transform(X)"
   ]
  },
  {
   "cell_type": "code",
   "execution_count": 7,
   "id": "e3d9ba4b",
   "metadata": {},
   "outputs": [
    {
     "name": "stdout",
     "output_type": "stream",
     "text": [
      "-0.000000\n",
      "1.0000000000000002\n"
     ]
    }
   ],
   "source": [
    "print(\"{:.6f}\".format(np.mean(X_transformed)))\n",
    "print(np.var(X_transformed))"
   ]
  },
  {
   "cell_type": "code",
   "execution_count": null,
   "id": "186e3bf6",
   "metadata": {},
   "outputs": [],
   "source": []
  },
  {
   "cell_type": "code",
   "execution_count": 8,
   "id": "003c1e1d",
   "metadata": {},
   "outputs": [],
   "source": [
    "# The fit_transform method lets you combine both steps of fitting and transforming your data into one step. \n",
    "scaler_2 = StandardScaler()\n",
    "X_transformed_2 = scaler_2.fit_transform(X)"
   ]
  },
  {
   "cell_type": "code",
   "execution_count": 9,
   "id": "5e5831b1",
   "metadata": {},
   "outputs": [
    {
     "name": "stdout",
     "output_type": "stream",
     "text": [
      "-0.000000\n",
      "1.0000000000000002\n"
     ]
    }
   ],
   "source": [
    "print(\"{:.6f}\".format(np.mean(X_transformed_2)))\n",
    "print(np.var(X_transformed_2))"
   ]
  },
  {
   "cell_type": "code",
   "execution_count": null,
   "id": "59e0c0bf",
   "metadata": {},
   "outputs": [],
   "source": []
  }
 ],
 "metadata": {
  "kernelspec": {
   "display_name": "Python 3 (ipykernel)",
   "language": "python",
   "name": "python3"
  },
  "language_info": {
   "codemirror_mode": {
    "name": "ipython",
    "version": 3
   },
   "file_extension": ".py",
   "mimetype": "text/x-python",
   "name": "python",
   "nbconvert_exporter": "python",
   "pygments_lexer": "ipython3",
   "version": "3.8.0"
  }
 },
 "nbformat": 4,
 "nbformat_minor": 5
}
