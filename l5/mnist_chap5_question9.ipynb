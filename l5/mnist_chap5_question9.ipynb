{
 "cells": [
  {
   "cell_type": "markdown",
   "id": "00266c80",
   "metadata": {},
   "source": [
    "# MNIST Data\n",
    "\n",
    "In this exercise, some data preprocessing steps are prepared (look it through so you understand it). Thereafter you will create two models. As always, the documentation is the place to go if you need to deepen your understanding or find out how to do something. "
   ]
  },
  {
   "cell_type": "code",
   "execution_count": null,
   "id": "edad8d44",
   "metadata": {},
   "outputs": [],
   "source": [
    "import numpy as np\n",
    "import pandas as pd\n",
    "import matplotlib.pyplot as plt\n",
    "import matplotlib as mpl\n",
    "\n",
    "from sklearn.preprocessing import StandardScaler\n",
    "from sklearn.metrics import accuracy_score\n",
    "\n",
    "from sklearn.svm import LinearSVC\n",
    "from sklearn.svm import SVC\n",
    "\n",
    "from sklearn.pipeline import Pipeline\n",
    "from sklearn.model_selection import GridSearchCV\n",
    "from sklearn.metrics import confusion_matrix, ConfusionMatrixDisplay"
   ]
  },
  {
   "cell_type": "markdown",
   "id": "a881c43d",
   "metadata": {},
   "source": [
    "# Creating a function that will be used later"
   ]
  },
  {
   "cell_type": "code",
   "execution_count": null,
   "id": "5e01968a",
   "metadata": {},
   "outputs": [],
   "source": [
    "def display_confusion_matrix(y_test, y_pred):\n",
    "    cm = confusion_matrix(y_test, y_pred)\n",
    "    ConfusionMatrixDisplay(cm).plot()"
   ]
  },
  {
   "cell_type": "markdown",
   "id": "304489e0",
   "metadata": {},
   "source": [
    "# Downloading the data and inspecting it"
   ]
  },
  {
   "cell_type": "code",
   "execution_count": null,
   "id": "c9ff6a66",
   "metadata": {},
   "outputs": [],
   "source": [
    "from sklearn.datasets import fetch_openml\n",
    "mnist = fetch_openml('mnist_784', version=1, cache=True, as_frame=False)\n",
    "\n",
    "X = mnist[\"data\"]\n",
    "y = mnist[\"target\"].astype(np.uint8)"
   ]
  },
  {
   "cell_type": "code",
   "execution_count": null,
   "id": "31804aaf",
   "metadata": {},
   "outputs": [],
   "source": [
    "print(mnist.DESCR)"
   ]
  },
  {
   "cell_type": "code",
   "execution_count": null,
   "id": "de365ac4",
   "metadata": {},
   "outputs": [],
   "source": [
    "# Taking less data to speed up training. \n",
    "X_train = X[:5000]\n",
    "y_train = y[:5000]\n",
    "X_val = X[5000:6000]\n",
    "y_val = y[5000:6000]\n",
    "\n",
    "X_test = X[6000:7000]\n",
    "y_test = y[6000:7000]\n",
    "\n",
    "# Standardizing the data (as you generally always should do when using SVM models).\n",
    "scaler = StandardScaler()\n",
    "X_train_scaled = scaler.fit_transform(X_train)\n",
    "X_val_scaled = scaler.transform(X_val)  # Only transforming the validation data. \n",
    "X_test_scaled = scaler.transform(X_test)  # Only transforming the test data. "
   ]
  },
  {
   "cell_type": "code",
   "execution_count": null,
   "id": "5e73075a",
   "metadata": {},
   "outputs": [],
   "source": [
    "# The first label (\"true answer\") is 5. \n",
    "y[0]"
   ]
  },
  {
   "cell_type": "code",
   "execution_count": null,
   "id": "9c8cd9c0",
   "metadata": {},
   "outputs": [],
   "source": [
    "# Plotting the features of the X data, it looks like a 5.\n",
    "some_digit = X[0]\n",
    "some_digit_image = some_digit.reshape(28, 28)\n",
    "plt.imshow(some_digit_image, cmap=mpl.cm.binary)\n",
    "# plt.axis(\"off\")"
   ]
  },
  {
   "cell_type": "code",
   "execution_count": null,
   "id": "0653015d",
   "metadata": {},
   "outputs": [],
   "source": [
    "print(X_train.shape)\n",
    "print(y_train.shape)"
   ]
  },
  {
   "cell_type": "markdown",
   "id": "2ab18bc1",
   "metadata": {},
   "source": [
    "# Creating a simple modell and evaluating it on the validation set"
   ]
  },
  {
   "cell_type": "markdown",
   "id": "f49846e8",
   "metadata": {},
   "source": [
    "1. Create a linear support vector classifier model (random_state=42 is just used so we get same results due to the training algorithm beeing stochastic.):\n",
    "```python\n",
    "lin_clf = LinearSVC(random_state=42)\n",
    "```\n",
    "\n",
    "2. Fit the model on the scaled training data. **You might get an warning, ignore it.**\n",
    "3. Predict the scaled validation data. \n",
    "4. Compute accuracy score, use the imported functionality: \n",
    "```python\n",
    "from sklearn.metrics import accuracy_score\n",
    "```\n",
    "5. Visualize the confusion matrix, use the function we created: \n",
    "```python\n",
    "def display_confusion_matrix\n",
    "```"
   ]
  },
  {
   "cell_type": "code",
   "execution_count": null,
   "id": "a30db3a5-4182-452b-8d50-0826d6ed0db7",
   "metadata": {},
   "outputs": [],
   "source": []
  },
  {
   "cell_type": "code",
   "execution_count": null,
   "id": "6c02477f-bc0c-41bf-b570-ee68531f3a71",
   "metadata": {},
   "outputs": [],
   "source": []
  },
  {
   "cell_type": "code",
   "execution_count": null,
   "id": "57c5eac5-5fbc-479c-a088-2c2f406480e5",
   "metadata": {},
   "outputs": [],
   "source": []
  },
  {
   "cell_type": "markdown",
   "id": "56d026b4",
   "metadata": {},
   "source": [
    "# Modell Selection with Gridsearch\n",
    "## Doing GridSearch (Takes a while to run) - remove the comments if you want to run the code"
   ]
  },
  {
   "cell_type": "markdown",
   "id": "29f85a8e",
   "metadata": {},
   "source": [
    "1. Create an instance of a general (not linear) SVC model. \n",
    "```python\n",
    "svm_clf = SVC()\n",
    "```\n",
    "2. Specify a hyperparameter grid:\n",
    "```python\n",
    "hyper_param_grid = [\n",
    "    {'kernel': ['rbf', 'poly'], 'gamma': [1, 2], 'C': [0.5, 1, 1.5]}\n",
    "]\n",
    "```\n",
    "3. Use GridSearchCV and fit the model with the hyperparameter grid above **(note, fitting the model with grid_search takes a while)**.\n",
    "4. If you for instance called your fine-tuned model in the step above for \"gs_svm\", then you can run this code:\n",
    "```python\n",
    "pd.DataFrame(gs_svm.cv_results_)\n",
    "```\n",
    "to analyze the grid search results. \n",
    "\n",
    "5. Predict the scaled validation data, compute the accuracy score, visualize the confusion matrix. \n",
    "\n",
    "\n",
    "6. Which model is better, the linear created above or this one where we used GridSearch?"
   ]
  },
  {
   "cell_type": "code",
   "execution_count": null,
   "id": "537d4bfd-0fc4-443f-a651-10d010b4384e",
   "metadata": {},
   "outputs": [],
   "source": []
  },
  {
   "cell_type": "code",
   "execution_count": null,
   "id": "a0b18ce8-95dd-4d72-a139-e335d113343e",
   "metadata": {},
   "outputs": [],
   "source": []
  },
  {
   "cell_type": "code",
   "execution_count": null,
   "id": "a4c80f5d-c77a-42ef-983e-829b4ff1b701",
   "metadata": {},
   "outputs": [],
   "source": []
  },
  {
   "cell_type": "markdown",
   "id": "25917261-2e40-44d9-a4af-4e74d10e9594",
   "metadata": {},
   "source": [
    "# Model Evaluation on Test Data\n",
    "Use the best model for evaluation on test data. "
   ]
  },
  {
   "cell_type": "code",
   "execution_count": null,
   "id": "abad948f-8b85-4edd-878b-8001f59e3fde",
   "metadata": {},
   "outputs": [],
   "source": []
  },
  {
   "cell_type": "code",
   "execution_count": null,
   "id": "65d3b42b-5396-4abd-a577-55c6ede3bbde",
   "metadata": {},
   "outputs": [],
   "source": []
  },
  {
   "cell_type": "code",
   "execution_count": null,
   "id": "573cd466-2d3e-4826-92fb-ecf6c74916f0",
   "metadata": {},
   "outputs": [],
   "source": []
  }
 ],
 "metadata": {
  "kernelspec": {
   "display_name": "Python 3 (ipykernel)",
   "language": "python",
   "name": "python3"
  },
  "language_info": {
   "codemirror_mode": {
    "name": "ipython",
    "version": 3
   },
   "file_extension": ".py",
   "mimetype": "text/x-python",
   "name": "python",
   "nbconvert_exporter": "python",
   "pygments_lexer": "ipython3",
   "version": "3.9.18"
  }
 },
 "nbformat": 4,
 "nbformat_minor": 5
}
