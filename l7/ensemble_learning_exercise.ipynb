{
 "cells": [
  {
   "cell_type": "markdown",
   "id": "38e43d6f",
   "metadata": {},
   "source": [
    "# MNIST - Ensemble Learning\n",
    "In this code exercise we are going to practice on creating different models. "
   ]
  },
  {
   "cell_type": "code",
   "execution_count": 1,
   "id": "62a138b7",
   "metadata": {},
   "outputs": [],
   "source": [
    "import numpy as np\n",
    "import matplotlib.pyplot as plt\n",
    "\n",
    "from sklearn.datasets import fetch_openml\n",
    "\n",
    "from sklearn.model_selection import train_test_split\n",
    "\n",
    "from sklearn.ensemble import RandomForestClassifier, ExtraTreesClassifier\n",
    "from sklearn.svm import LinearSVC\n",
    "from sklearn.ensemble import VotingClassifier\n",
    "\n",
    "np.random.seed(42)"
   ]
  },
  {
   "cell_type": "markdown",
   "id": "ca1462e4",
   "metadata": {},
   "source": [
    "# Data\n",
    "Load the MNIST data and split it into a training set, a validation set, and a test set (e.g., use 50,000 instances for training, 10,000 for validation, and 10,000 for testing).You can use the code below: \n",
    "\n",
    "```python\n",
    "mnist = fetch_openml('mnist_784', version=1, cache=True, as_frame=False)\n",
    "\n",
    "X = mnist[\"data\"]\n",
    "y = mnist[\"target\"].astype(np.uint8)\n",
    "\n",
    "X_train_val, X_test, y_train_val, y_test = train_test_split(\n",
    "    X, y, test_size=10000, random_state=42)\n",
    "X_train, X_val, y_train, y_val = train_test_split(\n",
    "    X_train_val, y_train_val, test_size=10000, random_state=42)\n",
    "```"
   ]
  },
  {
   "cell_type": "code",
   "execution_count": null,
   "id": "6a314e82",
   "metadata": {},
   "outputs": [],
   "source": []
  },
  {
   "cell_type": "markdown",
   "id": "5fad06ad",
   "metadata": {},
   "source": [
    "# Modelling\n",
    "Instantiate a (1) Random Forest, (2) ExtraTree and (3) LinearSVC model. You can use this code:\n",
    "```python\n",
    "random_forest_clf = RandomForestClassifier(n_estimators=100, random_state=42)\n",
    "extra_trees_clf = ExtraTreesClassifier(n_estimators=100, random_state=42)\n",
    "svm_clf = LinearSVC(max_iter=100, tol=20, random_state=42)\n",
    "```\n",
    "Train the models on the training data and print out the score for each model on the validation data (what does the score method do?). Example on using the score method:\n",
    "\n",
    "```python\n",
    "my_model_name.score(X_val, y_val)\n",
    "```"
   ]
  },
  {
   "cell_type": "code",
   "execution_count": null,
   "id": "71a30b84",
   "metadata": {},
   "outputs": [],
   "source": []
  },
  {
   "cell_type": "markdown",
   "id": "de48cb9d",
   "metadata": {},
   "source": [
    "**Voting classifier**\n",
    "\n",
    "Create a voting classifier, train it on the training data and evaluate it on the validation data using the score method. \n",
    "Some code to help: \n",
    "\n",
    "```python\n",
    "named_estimators = [\n",
    "    (\"random_forest_clf\", random_forest_clf),\n",
    "    (\"extra_trees_clf\", extra_trees_clf),\n",
    "    (\"svm_clf\", svm_clf)\n",
    "]\n",
    "\n",
    "voting_clf = VotingClassifier(named_estimators)\n",
    "```"
   ]
  },
  {
   "cell_type": "code",
   "execution_count": null,
   "id": "5606dfd1",
   "metadata": {},
   "outputs": [],
   "source": []
  },
  {
   "cell_type": "markdown",
   "id": "cccfdbfa",
   "metadata": {},
   "source": [
    "# Evaluate your best model on the test set. "
   ]
  },
  {
   "cell_type": "code",
   "execution_count": null,
   "id": "8cbbc723",
   "metadata": {},
   "outputs": [],
   "source": []
  },
  {
   "cell_type": "markdown",
   "id": "83c29e46",
   "metadata": {},
   "source": [
    "# Summary and analysis\n",
    "In this section, write down a summary of your work and some analysis. "
   ]
  },
  {
   "cell_type": "code",
   "execution_count": null,
   "id": "f68c857b",
   "metadata": {},
   "outputs": [],
   "source": []
  }
 ],
 "metadata": {
  "kernelspec": {
   "display_name": "Python 3 (ipykernel)",
   "language": "python",
   "name": "python3"
  },
  "language_info": {
   "codemirror_mode": {
    "name": "ipython",
    "version": 3
   },
   "file_extension": ".py",
   "mimetype": "text/x-python",
   "name": "python",
   "nbconvert_exporter": "python",
   "pygments_lexer": "ipython3",
   "version": "3.9.18"
  }
 },
 "nbformat": 4,
 "nbformat_minor": 5
}
