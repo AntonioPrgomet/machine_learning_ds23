{
 "cells": [
  {
   "cell_type": "markdown",
   "id": "80083316",
   "metadata": {},
   "source": [
    "# Linear Regression Example"
   ]
  },
  {
   "cell_type": "code",
   "execution_count": 1,
   "id": "fbb5aff5",
   "metadata": {},
   "outputs": [],
   "source": [
    "import numpy as np\n",
    "from sklearn.linear_model import LinearRegression\n",
    "from sklearn.metrics import mean_squared_error"
   ]
  },
  {
   "cell_type": "markdown",
   "id": "295e9e28",
   "metadata": {},
   "source": [
    "Assume we have data, where y = salary and X is a matrix containing two columns, the first column shows how many years the person has studied and the second columns shows how many years of experience the person has. "
   ]
  },
  {
   "cell_type": "markdown",
   "id": "9d6a09ba",
   "metadata": {},
   "source": [
    "# Estimating a simple linear regression model."
   ]
  },
  {
   "cell_type": "code",
   "execution_count": 2,
   "id": "b33d4797",
   "metadata": {},
   "outputs": [],
   "source": [
    "X = np.array([[5, 2], [3, 4], [2, 7], [0, 10]])\n",
    "y_true = np.array([34000, 31000, 33000, 28000])"
   ]
  },
  {
   "cell_type": "code",
   "execution_count": 3,
   "id": "1ff117df",
   "metadata": {},
   "outputs": [
    {
     "name": "stdout",
     "output_type": "stream",
     "text": [
      "[[ 5  2]\n",
      " [ 3  4]\n",
      " [ 2  7]\n",
      " [ 0 10]]\n",
      "\n",
      "[34000 31000 33000 28000]\n"
     ]
    }
   ],
   "source": [
    "print(X)\n",
    "print()\n",
    "print(y_true)"
   ]
  },
  {
   "cell_type": "code",
   "execution_count": 4,
   "id": "41982030",
   "metadata": {},
   "outputs": [],
   "source": [
    "# 1. Initialize the model. \n",
    "lin_reg = LinearRegression(fit_intercept=False)"
   ]
  },
  {
   "cell_type": "code",
   "execution_count": 5,
   "id": "3ff36fa2",
   "metadata": {},
   "outputs": [],
   "source": [
    "# 2. Fit the model. \n",
    "lin_reg = lin_reg.fit(X, y_true)"
   ]
  },
  {
   "cell_type": "code",
   "execution_count": 6,
   "id": "98dd2345",
   "metadata": {},
   "outputs": [
    {
     "name": "stdout",
     "output_type": "stream",
     "text": [
      "[5909.67616075 2900.89738588]\n",
      "0.0\n"
     ]
    }
   ],
   "source": [
    "print(lin_reg.coef_)\n",
    "print(lin_reg.intercept_)"
   ]
  },
  {
   "cell_type": "code",
   "execution_count": 7,
   "id": "7425e1d6",
   "metadata": {},
   "outputs": [
    {
     "name": "stdout",
     "output_type": "stream",
     "text": [
      "predictions [35350.1755755  29332.61802575 32125.63402263 29008.97385876]\n",
      "true y [34000 31000 33000 28000]\n"
     ]
    }
   ],
   "source": [
    "# 3. Predicting the train data.\n",
    "y_pred = lin_reg.predict(X)\n",
    "print('predictions', y_pred)\n",
    "print('true y', y_true)"
   ]
  },
  {
   "cell_type": "code",
   "execution_count": 8,
   "id": "66fc700b",
   "metadata": {},
   "outputs": [],
   "source": [
    "# Predicting \"new data\" where we want to predict the salary y which in reality is unknow now. "
   ]
  },
  {
   "cell_type": "code",
   "execution_count": 9,
   "id": "922bc812",
   "metadata": {},
   "outputs": [
    {
     "data": {
      "text/plain": [
       "array([50070.42528287])"
      ]
     },
     "execution_count": 9,
     "metadata": {},
     "output_type": "execute_result"
    }
   ],
   "source": [
    "X_new = np.array([[7, 3]])\n",
    "y_pred_new = lin_reg.predict(X_new)\n",
    "y_pred_new"
   ]
  },
  {
   "cell_type": "code",
   "execution_count": null,
   "id": "5a7b543e",
   "metadata": {},
   "outputs": [],
   "source": []
  },
  {
   "cell_type": "code",
   "execution_count": 11,
   "id": "b82fb0ed",
   "metadata": {},
   "outputs": [
    {
     "data": {
      "text/plain": [
       "{'copy_X': True,\n",
       " 'fit_intercept': False,\n",
       " 'n_jobs': None,\n",
       " 'normalize': 'deprecated',\n",
       " 'positive': False}"
      ]
     },
     "execution_count": 11,
     "metadata": {},
     "output_type": "execute_result"
    }
   ],
   "source": [
    "# Look at hyperparameters, we used all the default values in this case. \n",
    "lin_reg.get_params()"
   ]
  },
  {
   "cell_type": "markdown",
   "id": "634f75cc",
   "metadata": {},
   "source": [
    "## Calculate Root Mean Squared Error (RMSE) for the training data"
   ]
  },
  {
   "cell_type": "code",
   "execution_count": 12,
   "id": "6e0d0889",
   "metadata": {},
   "outputs": [
    {
     "name": "stdout",
     "output_type": "stream",
     "text": [
      "1263.49523572137\n"
     ]
    }
   ],
   "source": [
    "# Hyperparameter squared=False gives the root mean squared error. \n",
    "print(mean_squared_error(y_true, y_pred, squared=False))"
   ]
  },
  {
   "cell_type": "code",
   "execution_count": 13,
   "id": "7fe7589b",
   "metadata": {},
   "outputs": [
    {
     "data": {
      "text/plain": [
       "1263.49523572137"
      ]
     },
     "execution_count": 13,
     "metadata": {},
     "output_type": "execute_result"
    }
   ],
   "source": [
    "# Calulating the root mean squared error manually. \n",
    "(np.mean(((y_pred - y_true)**2)))**0.5"
   ]
  },
  {
   "cell_type": "markdown",
   "id": "d4833ce3",
   "metadata": {},
   "source": [
    "\n",
    "### Vad är RMSE?\n",
    "\n",
    "RMSE står för Root Mean Squared Error.\\\n",
    "Det är ett mått för att utvärdera regressionsproblem och mäter prediktionernas medelavstånd från de äkta, observerade värdena.\n",
    "\n",
    "Matematiska formeln för RMSE är:\n",
    "\n",
    "$RMSE = \\sqrt{\\frac{1} {n} \\sum_{i=1}^{n}(\\hat{y}_i-y_i)^2}$\n",
    "\n",
    "Idén bakom RMSE är simpel:\n",
    "- Man tar skillnaden mellan en prediktion och respektive observerad värde: $\\hat{y}_i-y_i$;    Det kallas för __Error__.\n",
    "- Vi bryr oss inte om det är en positiv eller negativ skillnad, därför kvadrerar vi: $(\\hat{y}_i-y_i)^2$;   Det kallas för __Squared Error__.\n",
    "- Vi räknar ut medelvärdet för Squared Error: $\\frac{1} {n} \\sum_{i=1}^{n}(\\hat{y}_i-y_i)^2$;    Det kallas för __Mean Squared Error__.\n",
    "- Vi tar roten ur Mean Squared Error, så måttet är på det samma skala som datan och därför lättare att tolka: $\\sqrt{\\frac{1} {n} \\sum_{i=1}^{n}(\\hat{y}_i-y_i)^2}$"
   ]
  },
  {
   "cell_type": "code",
   "execution_count": null,
   "id": "a4d16f8a",
   "metadata": {},
   "outputs": [],
   "source": []
  }
 ],
 "metadata": {
  "kernelspec": {
   "display_name": "Python 3 (ipykernel)",
   "language": "python",
   "name": "python3"
  },
  "language_info": {
   "codemirror_mode": {
    "name": "ipython",
    "version": 3
   },
   "file_extension": ".py",
   "mimetype": "text/x-python",
   "name": "python",
   "nbconvert_exporter": "python",
   "pygments_lexer": "ipython3",
   "version": "3.8.0"
  }
 },
 "nbformat": 4,
 "nbformat_minor": 5
}
